{
 "cells": [
  {
   "cell_type": "code",
   "execution_count": 1,
   "id": "c752d358",
   "metadata": {},
   "outputs": [],
   "source": [
    "import pandas as pd\n",
    "import numpy as np\n",
    "import tensorflow as tf\n",
    "from sklearn.model_selection import train_test_split\n",
    "from tensorflow.keras.models import Sequential\n",
    "from tensorflow.keras.layers import Embedding,LSTM,Dense"
   ]
  },
  {
   "cell_type": "code",
   "execution_count": 2,
   "id": "90990dbb",
   "metadata": {},
   "outputs": [],
   "source": [
    "from nltk.corpus import stopwords"
   ]
  },
  {
   "cell_type": "code",
   "execution_count": 3,
   "id": "b811cc72",
   "metadata": {},
   "outputs": [],
   "source": [
    "df=pd.read_csv('D:\\\\success analytics\\\\NLP_Course\\\\Day 14 LSTM1\\\\IMDB Dataset.csv')"
   ]
  },
  {
   "cell_type": "code",
   "execution_count": 4,
   "id": "9ee7a93a",
   "metadata": {},
   "outputs": [
    {
     "data": {
      "text/html": [
       "<div>\n",
       "<style scoped>\n",
       "    .dataframe tbody tr th:only-of-type {\n",
       "        vertical-align: middle;\n",
       "    }\n",
       "\n",
       "    .dataframe tbody tr th {\n",
       "        vertical-align: top;\n",
       "    }\n",
       "\n",
       "    .dataframe thead th {\n",
       "        text-align: right;\n",
       "    }\n",
       "</style>\n",
       "<table border=\"1\" class=\"dataframe\">\n",
       "  <thead>\n",
       "    <tr style=\"text-align: right;\">\n",
       "      <th></th>\n",
       "      <th>review</th>\n",
       "      <th>sentiment</th>\n",
       "    </tr>\n",
       "  </thead>\n",
       "  <tbody>\n",
       "    <tr>\n",
       "      <th>0</th>\n",
       "      <td>One of the other reviewers has mentioned that ...</td>\n",
       "      <td>positive</td>\n",
       "    </tr>\n",
       "    <tr>\n",
       "      <th>1</th>\n",
       "      <td>A wonderful little production. &lt;br /&gt;&lt;br /&gt;The...</td>\n",
       "      <td>positive</td>\n",
       "    </tr>\n",
       "    <tr>\n",
       "      <th>2</th>\n",
       "      <td>I thought this was a wonderful way to spend ti...</td>\n",
       "      <td>positive</td>\n",
       "    </tr>\n",
       "    <tr>\n",
       "      <th>3</th>\n",
       "      <td>Basically there's a family where a little boy ...</td>\n",
       "      <td>negative</td>\n",
       "    </tr>\n",
       "    <tr>\n",
       "      <th>4</th>\n",
       "      <td>Petter Mattei's \"Love in the Time of Money\" is...</td>\n",
       "      <td>positive</td>\n",
       "    </tr>\n",
       "    <tr>\n",
       "      <th>...</th>\n",
       "      <td>...</td>\n",
       "      <td>...</td>\n",
       "    </tr>\n",
       "    <tr>\n",
       "      <th>49995</th>\n",
       "      <td>I thought this movie did a down right good job...</td>\n",
       "      <td>positive</td>\n",
       "    </tr>\n",
       "    <tr>\n",
       "      <th>49996</th>\n",
       "      <td>Bad plot, bad dialogue, bad acting, idiotic di...</td>\n",
       "      <td>negative</td>\n",
       "    </tr>\n",
       "    <tr>\n",
       "      <th>49997</th>\n",
       "      <td>I am a Catholic taught in parochial elementary...</td>\n",
       "      <td>negative</td>\n",
       "    </tr>\n",
       "    <tr>\n",
       "      <th>49998</th>\n",
       "      <td>I'm going to have to disagree with the previou...</td>\n",
       "      <td>negative</td>\n",
       "    </tr>\n",
       "    <tr>\n",
       "      <th>49999</th>\n",
       "      <td>No one expects the Star Trek movies to be high...</td>\n",
       "      <td>negative</td>\n",
       "    </tr>\n",
       "  </tbody>\n",
       "</table>\n",
       "<p>50000 rows × 2 columns</p>\n",
       "</div>"
      ],
      "text/plain": [
       "                                                  review sentiment\n",
       "0      One of the other reviewers has mentioned that ...  positive\n",
       "1      A wonderful little production. <br /><br />The...  positive\n",
       "2      I thought this was a wonderful way to spend ti...  positive\n",
       "3      Basically there's a family where a little boy ...  negative\n",
       "4      Petter Mattei's \"Love in the Time of Money\" is...  positive\n",
       "...                                                  ...       ...\n",
       "49995  I thought this movie did a down right good job...  positive\n",
       "49996  Bad plot, bad dialogue, bad acting, idiotic di...  negative\n",
       "49997  I am a Catholic taught in parochial elementary...  negative\n",
       "49998  I'm going to have to disagree with the previou...  negative\n",
       "49999  No one expects the Star Trek movies to be high...  negative\n",
       "\n",
       "[50000 rows x 2 columns]"
      ]
     },
     "execution_count": 4,
     "metadata": {},
     "output_type": "execute_result"
    }
   ],
   "source": [
    "df"
   ]
  },
  {
   "cell_type": "code",
   "execution_count": 5,
   "id": "366094a1",
   "metadata": {},
   "outputs": [],
   "source": [
    "eng_stopwords=set(stopwords.words('english'))"
   ]
  },
  {
   "cell_type": "code",
   "execution_count": 6,
   "id": "a59a9038",
   "metadata": {},
   "outputs": [
    {
     "data": {
      "text/plain": [
       "{'a',\n",
       " 'about',\n",
       " 'above',\n",
       " 'after',\n",
       " 'again',\n",
       " 'against',\n",
       " 'ain',\n",
       " 'all',\n",
       " 'am',\n",
       " 'an',\n",
       " 'and',\n",
       " 'any',\n",
       " 'are',\n",
       " 'aren',\n",
       " \"aren't\",\n",
       " 'as',\n",
       " 'at',\n",
       " 'be',\n",
       " 'because',\n",
       " 'been',\n",
       " 'before',\n",
       " 'being',\n",
       " 'below',\n",
       " 'between',\n",
       " 'both',\n",
       " 'but',\n",
       " 'by',\n",
       " 'can',\n",
       " 'couldn',\n",
       " \"couldn't\",\n",
       " 'd',\n",
       " 'did',\n",
       " 'didn',\n",
       " \"didn't\",\n",
       " 'do',\n",
       " 'does',\n",
       " 'doesn',\n",
       " \"doesn't\",\n",
       " 'doing',\n",
       " 'don',\n",
       " \"don't\",\n",
       " 'down',\n",
       " 'during',\n",
       " 'each',\n",
       " 'few',\n",
       " 'for',\n",
       " 'from',\n",
       " 'further',\n",
       " 'had',\n",
       " 'hadn',\n",
       " \"hadn't\",\n",
       " 'has',\n",
       " 'hasn',\n",
       " \"hasn't\",\n",
       " 'have',\n",
       " 'haven',\n",
       " \"haven't\",\n",
       " 'having',\n",
       " 'he',\n",
       " 'her',\n",
       " 'here',\n",
       " 'hers',\n",
       " 'herself',\n",
       " 'him',\n",
       " 'himself',\n",
       " 'his',\n",
       " 'how',\n",
       " 'i',\n",
       " 'if',\n",
       " 'in',\n",
       " 'into',\n",
       " 'is',\n",
       " 'isn',\n",
       " \"isn't\",\n",
       " 'it',\n",
       " \"it's\",\n",
       " 'its',\n",
       " 'itself',\n",
       " 'just',\n",
       " 'll',\n",
       " 'm',\n",
       " 'ma',\n",
       " 'me',\n",
       " 'mightn',\n",
       " \"mightn't\",\n",
       " 'more',\n",
       " 'most',\n",
       " 'mustn',\n",
       " \"mustn't\",\n",
       " 'my',\n",
       " 'myself',\n",
       " 'needn',\n",
       " \"needn't\",\n",
       " 'no',\n",
       " 'nor',\n",
       " 'not',\n",
       " 'now',\n",
       " 'o',\n",
       " 'of',\n",
       " 'off',\n",
       " 'on',\n",
       " 'once',\n",
       " 'only',\n",
       " 'or',\n",
       " 'other',\n",
       " 'our',\n",
       " 'ours',\n",
       " 'ourselves',\n",
       " 'out',\n",
       " 'over',\n",
       " 'own',\n",
       " 're',\n",
       " 's',\n",
       " 'same',\n",
       " 'shan',\n",
       " \"shan't\",\n",
       " 'she',\n",
       " \"she's\",\n",
       " 'should',\n",
       " \"should've\",\n",
       " 'shouldn',\n",
       " \"shouldn't\",\n",
       " 'so',\n",
       " 'some',\n",
       " 'such',\n",
       " 't',\n",
       " 'than',\n",
       " 'that',\n",
       " \"that'll\",\n",
       " 'the',\n",
       " 'their',\n",
       " 'theirs',\n",
       " 'them',\n",
       " 'themselves',\n",
       " 'then',\n",
       " 'there',\n",
       " 'these',\n",
       " 'they',\n",
       " 'this',\n",
       " 'those',\n",
       " 'through',\n",
       " 'to',\n",
       " 'too',\n",
       " 'under',\n",
       " 'until',\n",
       " 'up',\n",
       " 've',\n",
       " 'very',\n",
       " 'was',\n",
       " 'wasn',\n",
       " \"wasn't\",\n",
       " 'we',\n",
       " 'were',\n",
       " 'weren',\n",
       " \"weren't\",\n",
       " 'what',\n",
       " 'when',\n",
       " 'where',\n",
       " 'which',\n",
       " 'while',\n",
       " 'who',\n",
       " 'whom',\n",
       " 'why',\n",
       " 'will',\n",
       " 'with',\n",
       " 'won',\n",
       " \"won't\",\n",
       " 'wouldn',\n",
       " \"wouldn't\",\n",
       " 'y',\n",
       " 'you',\n",
       " \"you'd\",\n",
       " \"you'll\",\n",
       " \"you're\",\n",
       " \"you've\",\n",
       " 'your',\n",
       " 'yours',\n",
       " 'yourself',\n",
       " 'yourselves'}"
      ]
     },
     "execution_count": 6,
     "metadata": {},
     "output_type": "execute_result"
    }
   ],
   "source": [
    "eng_stopwords"
   ]
  },
  {
   "cell_type": "code",
   "execution_count": 7,
   "id": "7af00a6d",
   "metadata": {},
   "outputs": [
    {
     "ename": "NameError",
     "evalue": "name 'x_data' is not defined",
     "output_type": "error",
     "traceback": [
      "\u001b[1;31m---------------------------------------------------------------------------\u001b[0m",
      "\u001b[1;31mNameError\u001b[0m                                 Traceback (most recent call last)",
      "Cell \u001b[1;32mIn[7], line 1\u001b[0m\n\u001b[1;32m----> 1\u001b[0m data\u001b[38;5;241m=\u001b[39m \u001b[43mx_data\u001b[49m\u001b[38;5;241m.\u001b[39mapply(\u001b[38;5;28;01mlambda\u001b[39;00m review: [x \u001b[38;5;28;01mfor\u001b[39;00m x \u001b[38;5;129;01min\u001b[39;00m review\u001b[38;5;241m.\u001b[39msplit() \u001b[38;5;28;01mif\u001b[39;00m x \u001b[38;5;129;01mnot\u001b[39;00m \u001b[38;5;129;01min\u001b[39;00m eng_stopwords])\n",
      "\u001b[1;31mNameError\u001b[0m: name 'x_data' is not defined"
     ]
    }
   ],
   "source": [
    "data= x_data.apply(lambda review: [x for x in review.split() if x not in eng_stopwords])"
   ]
  },
  {
   "cell_type": "code",
   "execution_count": null,
   "id": "494f4bdf",
   "metadata": {},
   "outputs": [],
   "source": [
    "data"
   ]
  },
  {
   "cell_type": "code",
   "execution_count": null,
   "id": "c9edd2e7",
   "metadata": {},
   "outputs": [],
   "source": []
  },
  {
   "cell_type": "code",
   "execution_count": 8,
   "id": "6b483ee6",
   "metadata": {},
   "outputs": [],
   "source": [
    "def preprocessing():\n",
    "    x_data=df['review']\n",
    "    y_data=df['sentiment']\n",
    "    #performing preprocessing task\n",
    "    x_data=x_data.replace({'<.*?>':' '}) #remove tags\n",
    "    x_data=x_data.replace({'[^A-Za-z]':' '},regex=True) #remove non alphabet\n",
    "    x_data=x_data.apply(lambda review :[x for x in review.split() if x not in eng_stopwords])\n",
    "    x_data=x_data.apply(lambda review :[x.lower() for x in review])\n",
    "    y_data=y_data.replace('positive',1)\n",
    "    y_data=y_data.replace('negative',0)\n",
    "    return x_data,y_data"
   ]
  },
  {
   "cell_type": "code",
   "execution_count": 9,
   "id": "7dd26250",
   "metadata": {},
   "outputs": [],
   "source": [
    "x_data,y_data=preprocessing()"
   ]
  },
  {
   "cell_type": "code",
   "execution_count": 10,
   "id": "460b126c",
   "metadata": {},
   "outputs": [
    {
     "name": "stdout",
     "output_type": "stream",
     "text": [
      "0        [one, reviewers, mentioned, watching, oz, epis...\n",
      "1        [a, wonderful, little, production, br, br, the...\n",
      "2        [i, thought, wonderful, way, spend, time, hot,...\n",
      "3        [basically, family, little, boy, jake, thinks,...\n",
      "4        [petter, mattei, love, time, money, visually, ...\n",
      "                               ...                        \n",
      "49995    [i, thought, movie, right, good, job, it, crea...\n",
      "49996    [bad, plot, bad, dialogue, bad, acting, idioti...\n",
      "49997    [i, catholic, taught, parochial, elementary, s...\n",
      "49998    [i, going, disagree, previous, comment, side, ...\n",
      "49999    [no, one, expects, star, trek, movies, high, a...\n",
      "Name: review, Length: 50000, dtype: object\n"
     ]
    }
   ],
   "source": [
    "print(x_data)"
   ]
  },
  {
   "cell_type": "code",
   "execution_count": 11,
   "id": "76d4f9f2",
   "metadata": {},
   "outputs": [
    {
     "name": "stdout",
     "output_type": "stream",
     "text": [
      "0        1\n",
      "1        1\n",
      "2        1\n",
      "3        0\n",
      "4        1\n",
      "        ..\n",
      "49995    1\n",
      "49996    0\n",
      "49997    0\n",
      "49998    0\n",
      "49999    0\n",
      "Name: sentiment, Length: 50000, dtype: int64\n"
     ]
    }
   ],
   "source": [
    "print(y_data)"
   ]
  },
  {
   "cell_type": "code",
   "execution_count": 12,
   "id": "f4870ee9",
   "metadata": {},
   "outputs": [],
   "source": [
    "x_train,x_test,y_train,y_test=train_test_split(x_data,y_data,test_size=0.2)"
   ]
  },
  {
   "cell_type": "code",
   "execution_count": 13,
   "id": "bd5bc0a9",
   "metadata": {},
   "outputs": [
    {
     "data": {
      "text/plain": [
       "14703    1\n",
       "33557    1\n",
       "43500    1\n",
       "42306    0\n",
       "7119     1\n",
       "        ..\n",
       "35688    1\n",
       "38382    0\n",
       "8976     1\n",
       "38548    0\n",
       "48177    0\n",
       "Name: sentiment, Length: 40000, dtype: int64"
      ]
     },
     "execution_count": 13,
     "metadata": {},
     "output_type": "execute_result"
    }
   ],
   "source": [
    "y_train"
   ]
  },
  {
   "cell_type": "code",
   "execution_count": 14,
   "id": "0d6d5e8d",
   "metadata": {},
   "outputs": [
    {
     "data": {
      "text/plain": [
       "28409    [from, comes, neat, thriller, couple, smugglin...\n",
       "30402    [the, aspect, film, saves, least, favorite, pi...\n",
       "4303     [originally, supposed, part, huge, epic, the, ...\n",
       "10843    [normally, i, try, avoid, sci, fi, movies, muc...\n",
       "1432     [this, type, plot, really, lot, potential, but...\n",
       "                               ...                        \n",
       "5272     [i, watched, i, thought, going, lot, car, chas...\n",
       "6440     [have, admit, version, disgraces, shakespeare,...\n",
       "42760    [about, baby, why, big, brother, assuming, hun...\n",
       "22317    [sometimes, ignore, little, voice, head, says,...\n",
       "18474    [this, quite, plumb, depths, creepshow, comes,...\n",
       "Name: review, Length: 10000, dtype: object"
      ]
     },
     "execution_count": 14,
     "metadata": {},
     "output_type": "execute_result"
    }
   ],
   "source": [
    "x_test"
   ]
  },
  {
   "cell_type": "code",
   "execution_count": 15,
   "id": "343171fd",
   "metadata": {},
   "outputs": [],
   "source": [
    "def get_review_length():\n",
    "    review_length=[]\n",
    "    for review in x_train:\n",
    "        review_length.append(len(review))\n",
    "    return int(np.ceil(np.mean(review_length)))"
   ]
  },
  {
   "cell_type": "code",
   "execution_count": 16,
   "id": "0d5cab8a",
   "metadata": {},
   "outputs": [],
   "source": [
    "max_length=get_review_length()"
   ]
  },
  {
   "cell_type": "code",
   "execution_count": 17,
   "id": "27415651",
   "metadata": {},
   "outputs": [
    {
     "data": {
      "text/plain": [
       "134"
      ]
     },
     "execution_count": 17,
     "metadata": {},
     "output_type": "execute_result"
    }
   ],
   "source": [
    "max_length"
   ]
  },
  {
   "cell_type": "code",
   "execution_count": 32,
   "id": "62f6fa87",
   "metadata": {},
   "outputs": [],
   "source": [
    "from tensorflow.keras.preprocessing.text import Tokenizer\n",
    "from tensorflow.keras.preprocessing.sequence import pad_sequences\n",
    "from keras.layers import SimpleRNN,Activation"
   ]
  },
  {
   "cell_type": "code",
   "execution_count": 19,
   "id": "54b8204a",
   "metadata": {},
   "outputs": [],
   "source": [
    "token=Tokenizer(lower=False)"
   ]
  },
  {
   "cell_type": "code",
   "execution_count": 20,
   "id": "2be5836b",
   "metadata": {},
   "outputs": [],
   "source": [
    "token.fit_on_texts(x_train)"
   ]
  },
  {
   "cell_type": "code",
   "execution_count": 21,
   "id": "dd7bef59",
   "metadata": {},
   "outputs": [],
   "source": [
    "x_train=token.texts_to_sequences(x_train)\n",
    "x_test=token.texts_to_sequences(x_test)"
   ]
  },
  {
   "cell_type": "code",
   "execution_count": 22,
   "id": "f1f05381",
   "metadata": {},
   "outputs": [],
   "source": [
    "x_train=pad_sequences(x_train,maxlen=max_length,padding='post')\n",
    "x_test=pad_sequences(x_test,maxlen=max_length,padding='post')"
   ]
  },
  {
   "cell_type": "code",
   "execution_count": 23,
   "id": "e747c4aa",
   "metadata": {},
   "outputs": [],
   "source": [
    "total_words=len(token.word_index)+1"
   ]
  },
  {
   "cell_type": "code",
   "execution_count": 24,
   "id": "f20a4483",
   "metadata": {},
   "outputs": [
    {
     "data": {
      "text/plain": [
       "90715"
      ]
     },
     "execution_count": 24,
     "metadata": {},
     "output_type": "execute_result"
    }
   ],
   "source": [
    "total_words"
   ]
  },
  {
   "cell_type": "code",
   "execution_count": 25,
   "id": "5f4c4902",
   "metadata": {},
   "outputs": [
    {
     "data": {
      "text/plain": [
       "(40000, 134)"
      ]
     },
     "execution_count": 25,
     "metadata": {},
     "output_type": "execute_result"
    }
   ],
   "source": [
    "x_train.shape"
   ]
  },
  {
   "cell_type": "code",
   "execution_count": 26,
   "id": "57bd7755",
   "metadata": {},
   "outputs": [
    {
     "ename": "NameError",
     "evalue": "name 'X_train' is not defined",
     "output_type": "error",
     "traceback": [
      "\u001b[1;31m---------------------------------------------------------------------------\u001b[0m",
      "\u001b[1;31mNameError\u001b[0m                                 Traceback (most recent call last)",
      "Cell \u001b[1;32mIn[26], line 2\u001b[0m\n\u001b[0;32m      1\u001b[0m maxlen\u001b[38;5;241m=\u001b[39m\u001b[38;5;241m130\u001b[39m\n\u001b[1;32m----> 2\u001b[0m X_train \u001b[38;5;241m=\u001b[39m pad_sequences(\u001b[43mX_train\u001b[49m, maxlen\u001b[38;5;241m=\u001b[39mmaxlen)\n\u001b[0;32m      3\u001b[0m X_test \u001b[38;5;241m=\u001b[39m pad_sequences(X_test, maxlen\u001b[38;5;241m=\u001b[39mmaxlen)\n",
      "\u001b[1;31mNameError\u001b[0m: name 'X_train' is not defined"
     ]
    }
   ],
   "source": [
    "maxlen=130\n",
    "X_train = pad_sequences(X_train, maxlen=maxlen)\n",
    "X_test = pad_sequences(X_test, maxlen=maxlen)"
   ]
  },
  {
   "cell_type": "markdown",
   "id": "78b2b593",
   "metadata": {},
   "source": [
    "## RNN Implementation"
   ]
  },
  {
   "cell_type": "code",
   "execution_count": 27,
   "id": "968a0ff3",
   "metadata": {},
   "outputs": [],
   "source": [
    "rnn=Sequential()"
   ]
  },
  {
   "cell_type": "code",
   "execution_count": 34,
   "id": "aed05222",
   "metadata": {},
   "outputs": [
    {
     "name": "stdout",
     "output_type": "stream",
     "text": [
      "Model: \"sequential\"\n",
      "_________________________________________________________________\n",
      " Layer (type)                Output Shape              Param #   \n",
      "=================================================================\n",
      " embedding (Embedding)       (None, 134, 32)           2902880   \n",
      "                                                                 \n",
      " simple_rnn (SimpleRNN)      (None, 16)                784       \n",
      "                                                                 \n",
      " embedding_1 (Embedding)     (None, 16, 32)            2902880   \n",
      "                                                                 \n",
      " simple_rnn_1 (SimpleRNN)    (None, 16)                784       \n",
      "                                                                 \n",
      " embedding_2 (Embedding)     (None, 16, 32)            2902880   \n",
      "                                                                 \n",
      " simple_rnn_2 (SimpleRNN)    (None, 16)                784       \n",
      "                                                                 \n",
      " dense_2 (Dense)             (None, 1)                 17        \n",
      "                                                                 \n",
      " embedding_3 (Embedding)     (None, 1, 32)             2902880   \n",
      "                                                                 \n",
      " simple_rnn_3 (SimpleRNN)    (None, 16)                784       \n",
      "                                                                 \n",
      " dense_3 (Dense)             (None, 1)                 17        \n",
      "                                                                 \n",
      " embedding_4 (Embedding)     (None, 1, 32)             2902880   \n",
      "                                                                 \n",
      " simple_rnn_4 (SimpleRNN)    (None, 16)                784       \n",
      "                                                                 \n",
      " dense_4 (Dense)             (None, 1)                 17        \n",
      "                                                                 \n",
      " embedding_5 (Embedding)     (None, 1, 32)             2902880   \n",
      "                                                                 \n",
      " simple_rnn_5 (SimpleRNN)    (None, 16)                784       \n",
      "                                                                 \n",
      " dense_5 (Dense)             (None, 1)                 17        \n",
      "                                                                 \n",
      " activation_1 (Activation)   (None, 1)                 0         \n",
      "                                                                 \n",
      "=================================================================\n",
      "Total params: 17422052 (66.46 MB)\n",
      "Trainable params: 17422052 (66.46 MB)\n",
      "Non-trainable params: 0 (0.00 Byte)\n",
      "_________________________________________________________________\n"
     ]
    }
   ],
   "source": [
    "rnn.add(Embedding(total_words,32,input_length=len(x_train[0])))\n",
    "rnn.add(SimpleRNN(16,input_shape=(40000,134),return_sequences=False,activation='relu'))\n",
    "rnn.add(Dense(1))\n",
    "rnn.add(Activation('sigmoid'))\n",
    "rnn.summary()"
   ]
  },
  {
   "cell_type": "code",
   "execution_count": 35,
   "id": "38b004c7",
   "metadata": {},
   "outputs": [],
   "source": [
    "rnn.compile(loss=\"binary_crossentropy\",optimizer=\"rmsprop\",metrics=[\"accuracy\"])"
   ]
  },
  {
   "cell_type": "code",
   "execution_count": 37,
   "id": "a3e0c2f7",
   "metadata": {},
   "outputs": [
    {
     "name": "stdout",
     "output_type": "stream",
     "text": [
      "Epoch 1/5\n",
      "WARNING:tensorflow:Gradients do not exist for variables ['embedding/embeddings:0', 'simple_rnn/simple_rnn_cell/kernel:0', 'simple_rnn/simple_rnn_cell/recurrent_kernel:0', 'simple_rnn/simple_rnn_cell/bias:0', 'embedding_1/embeddings:0', 'simple_rnn_1/simple_rnn_cell/kernel:0', 'simple_rnn_1/simple_rnn_cell/recurrent_kernel:0', 'simple_rnn_1/simple_rnn_cell/bias:0', 'embedding_2/embeddings:0', 'simple_rnn_2/simple_rnn_cell/kernel:0', 'simple_rnn_2/simple_rnn_cell/recurrent_kernel:0', 'simple_rnn_2/simple_rnn_cell/bias:0', 'dense_2/kernel:0', 'dense_2/bias:0', 'embedding_3/embeddings:0', 'simple_rnn_3/simple_rnn_cell/kernel:0', 'simple_rnn_3/simple_rnn_cell/recurrent_kernel:0', 'simple_rnn_3/simple_rnn_cell/bias:0', 'dense_3/kernel:0', 'dense_3/bias:0', 'embedding_4/embeddings:0', 'simple_rnn_4/simple_rnn_cell/kernel:0', 'simple_rnn_4/simple_rnn_cell/recurrent_kernel:0', 'simple_rnn_4/simple_rnn_cell/bias:0', 'dense_4/kernel:0', 'dense_4/bias:0'] when minimizing the loss. If you're using `model.compile()`, did you forget to provide a `loss` argument?\n",
      "WARNING:tensorflow:Gradients do not exist for variables ['embedding/embeddings:0', 'simple_rnn/simple_rnn_cell/kernel:0', 'simple_rnn/simple_rnn_cell/recurrent_kernel:0', 'simple_rnn/simple_rnn_cell/bias:0', 'embedding_1/embeddings:0', 'simple_rnn_1/simple_rnn_cell/kernel:0', 'simple_rnn_1/simple_rnn_cell/recurrent_kernel:0', 'simple_rnn_1/simple_rnn_cell/bias:0', 'embedding_2/embeddings:0', 'simple_rnn_2/simple_rnn_cell/kernel:0', 'simple_rnn_2/simple_rnn_cell/recurrent_kernel:0', 'simple_rnn_2/simple_rnn_cell/bias:0', 'dense_2/kernel:0', 'dense_2/bias:0', 'embedding_3/embeddings:0', 'simple_rnn_3/simple_rnn_cell/kernel:0', 'simple_rnn_3/simple_rnn_cell/recurrent_kernel:0', 'simple_rnn_3/simple_rnn_cell/bias:0', 'dense_3/kernel:0', 'dense_3/bias:0', 'embedding_4/embeddings:0', 'simple_rnn_4/simple_rnn_cell/kernel:0', 'simple_rnn_4/simple_rnn_cell/recurrent_kernel:0', 'simple_rnn_4/simple_rnn_cell/bias:0', 'dense_4/kernel:0', 'dense_4/bias:0'] when minimizing the loss. If you're using `model.compile()`, did you forget to provide a `loss` argument?\n",
      "WARNING:tensorflow:Gradients do not exist for variables ['embedding/embeddings:0', 'simple_rnn/simple_rnn_cell/kernel:0', 'simple_rnn/simple_rnn_cell/recurrent_kernel:0', 'simple_rnn/simple_rnn_cell/bias:0', 'embedding_1/embeddings:0', 'simple_rnn_1/simple_rnn_cell/kernel:0', 'simple_rnn_1/simple_rnn_cell/recurrent_kernel:0', 'simple_rnn_1/simple_rnn_cell/bias:0', 'embedding_2/embeddings:0', 'simple_rnn_2/simple_rnn_cell/kernel:0', 'simple_rnn_2/simple_rnn_cell/recurrent_kernel:0', 'simple_rnn_2/simple_rnn_cell/bias:0', 'dense_2/kernel:0', 'dense_2/bias:0', 'embedding_3/embeddings:0', 'simple_rnn_3/simple_rnn_cell/kernel:0', 'simple_rnn_3/simple_rnn_cell/recurrent_kernel:0', 'simple_rnn_3/simple_rnn_cell/bias:0', 'dense_3/kernel:0', 'dense_3/bias:0', 'embedding_4/embeddings:0', 'simple_rnn_4/simple_rnn_cell/kernel:0', 'simple_rnn_4/simple_rnn_cell/recurrent_kernel:0', 'simple_rnn_4/simple_rnn_cell/bias:0', 'dense_4/kernel:0', 'dense_4/bias:0'] when minimizing the loss. If you're using `model.compile()`, did you forget to provide a `loss` argument?\n",
      "WARNING:tensorflow:Gradients do not exist for variables ['embedding/embeddings:0', 'simple_rnn/simple_rnn_cell/kernel:0', 'simple_rnn/simple_rnn_cell/recurrent_kernel:0', 'simple_rnn/simple_rnn_cell/bias:0', 'embedding_1/embeddings:0', 'simple_rnn_1/simple_rnn_cell/kernel:0', 'simple_rnn_1/simple_rnn_cell/recurrent_kernel:0', 'simple_rnn_1/simple_rnn_cell/bias:0', 'embedding_2/embeddings:0', 'simple_rnn_2/simple_rnn_cell/kernel:0', 'simple_rnn_2/simple_rnn_cell/recurrent_kernel:0', 'simple_rnn_2/simple_rnn_cell/bias:0', 'dense_2/kernel:0', 'dense_2/bias:0', 'embedding_3/embeddings:0', 'simple_rnn_3/simple_rnn_cell/kernel:0', 'simple_rnn_3/simple_rnn_cell/recurrent_kernel:0', 'simple_rnn_3/simple_rnn_cell/bias:0', 'dense_3/kernel:0', 'dense_3/bias:0', 'embedding_4/embeddings:0', 'simple_rnn_4/simple_rnn_cell/kernel:0', 'simple_rnn_4/simple_rnn_cell/recurrent_kernel:0', 'simple_rnn_4/simple_rnn_cell/bias:0', 'dense_4/kernel:0', 'dense_4/bias:0'] when minimizing the loss. If you're using `model.compile()`, did you forget to provide a `loss` argument?\n",
      "313/313 [==============================] - 23s 58ms/step - loss: 0.6932 - accuracy: 0.5002 - val_loss: 0.6931 - val_accuracy: 0.5021\n",
      "Epoch 2/5\n",
      "313/313 [==============================] - 11s 34ms/step - loss: 0.6932 - accuracy: 0.4944 - val_loss: 0.6931 - val_accuracy: 0.4979\n",
      "Epoch 3/5\n",
      "313/313 [==============================] - 11s 36ms/step - loss: 0.6932 - accuracy: 0.4972 - val_loss: 0.6932 - val_accuracy: 0.4979\n",
      "Epoch 4/5\n",
      "313/313 [==============================] - 12s 39ms/step - loss: 0.6932 - accuracy: 0.4991 - val_loss: 0.6932 - val_accuracy: 0.4979\n",
      "Epoch 5/5\n",
      "313/313 [==============================] - 13s 42ms/step - loss: 0.6932 - accuracy: 0.4954 - val_loss: 0.6931 - val_accuracy: 0.5021\n"
     ]
    }
   ],
   "source": [
    "history = rnn.fit(x_train,y_train,validation_data = (x_test,y_test),epochs = 5,batch_size=128,verbose = 1)"
   ]
  },
  {
   "cell_type": "code",
   "execution_count": 39,
   "id": "4af5b171",
   "metadata": {},
   "outputs": [
    {
     "name": "stdout",
     "output_type": "stream",
     "text": [
      "79/79 [==============================] - 4s 22ms/step\n"
     ]
    }
   ],
   "source": [
    "y_pred=rnn.predict(x_test,batch_size=128)"
   ]
  },
  {
   "cell_type": "code",
   "execution_count": 40,
   "id": "1c9985b4",
   "metadata": {},
   "outputs": [
    {
     "name": "stdout",
     "output_type": "stream",
     "text": [
      "Correct Prediction: 0\n",
      "Wrong Prediction: 10000\n",
      "Accuracy: 0.0\n"
     ]
    }
   ],
   "source": [
    "true = 0\n",
    "for i, y in enumerate(y_test):\n",
    "    if y == y_pred[i]:\n",
    "        true += 1\n",
    "\n",
    "print('Correct Prediction: {}'.format(true))\n",
    "print('Wrong Prediction: {}'.format(len(y_pred) - true))\n",
    "print('Accuracy: {}'.format(true/len(y_pred)*100))"
   ]
  },
  {
   "cell_type": "code",
   "execution_count": null,
   "id": "baadbb39",
   "metadata": {},
   "outputs": [],
   "source": []
  },
  {
   "cell_type": "markdown",
   "id": "be2997f5",
   "metadata": {},
   "source": [
    "## LSTM implementation"
   ]
  },
  {
   "cell_type": "code",
   "execution_count": 43,
   "id": "9cf2bbfe",
   "metadata": {},
   "outputs": [
    {
     "name": "stdout",
     "output_type": "stream",
     "text": [
      "Model: \"sequential_2\"\n",
      "_________________________________________________________________\n",
      " Layer (type)                Output Shape              Param #   \n",
      "=================================================================\n",
      " embedding_7 (Embedding)     (None, 134, 32)           2902880   \n",
      "                                                                 \n",
      " lstm_1 (LSTM)               (None, 64)                24832     \n",
      "                                                                 \n",
      " dense_7 (Dense)             (None, 1)                 65        \n",
      "                                                                 \n",
      "=================================================================\n",
      "Total params: 2927777 (11.17 MB)\n",
      "Trainable params: 2927777 (11.17 MB)\n",
      "Non-trainable params: 0 (0.00 Byte)\n",
      "_________________________________________________________________\n"
     ]
    }
   ],
   "source": [
    "lstm_model=Sequential()\n",
    "lstm_model.add(Embedding(total_words,32,input_length=len(x_train[0])))\n",
    "lstm_model.add(LSTM(64))\n",
    "lstm_model.add(Dense(1,activation='sigmoid'))\n",
    "lstm_model.compile(optimizer='adam',loss='binary_crossentropy',metrics=['accuracy'])\n",
    "lstm_model.summary()"
   ]
  },
  {
   "cell_type": "code",
   "execution_count": 45,
   "id": "95ed7afc",
   "metadata": {},
   "outputs": [
    {
     "name": "stdout",
     "output_type": "stream",
     "text": [
      "Epoch 1/5\n",
      "313/313 [==============================] - 82s 262ms/step - loss: 0.1948 - accuracy: 0.9299\n",
      "Epoch 2/5\n",
      "313/313 [==============================] - 82s 262ms/step - loss: 0.1141 - accuracy: 0.9637\n",
      "Epoch 3/5\n",
      "313/313 [==============================] - 81s 260ms/step - loss: 0.0651 - accuracy: 0.9813\n",
      "Epoch 4/5\n",
      "313/313 [==============================] - 177s 566ms/step - loss: 0.0561 - accuracy: 0.9854\n",
      "Epoch 5/5\n",
      "313/313 [==============================] - 81s 260ms/step - loss: 0.0417 - accuracy: 0.9891\n"
     ]
    },
    {
     "data": {
      "text/plain": [
       "<keras.src.callbacks.History at 0x16b20c06950>"
      ]
     },
     "execution_count": 45,
     "metadata": {},
     "output_type": "execute_result"
    }
   ],
   "source": [
    "lstm_model.fit(x_train,y_train,batch_size=128,epochs=5)"
   ]
  },
  {
   "cell_type": "code",
   "execution_count": null,
   "id": "b1a72f91",
   "metadata": {},
   "outputs": [],
   "source": []
  },
  {
   "cell_type": "code",
   "execution_count": null,
   "id": "0fb2decc",
   "metadata": {},
   "outputs": [],
   "source": []
  },
  {
   "cell_type": "code",
   "execution_count": null,
   "id": "7e8db6fe",
   "metadata": {},
   "outputs": [],
   "source": []
  },
  {
   "cell_type": "code",
   "execution_count": null,
   "id": "b15d2725",
   "metadata": {},
   "outputs": [],
   "source": []
  },
  {
   "cell_type": "code",
   "execution_count": null,
   "id": "da92bd0c",
   "metadata": {},
   "outputs": [],
   "source": []
  },
  {
   "cell_type": "code",
   "execution_count": null,
   "id": "d9ff85a8",
   "metadata": {},
   "outputs": [],
   "source": []
  },
  {
   "cell_type": "code",
   "execution_count": null,
   "id": "dfa817cf",
   "metadata": {},
   "outputs": [],
   "source": []
  },
  {
   "cell_type": "code",
   "execution_count": null,
   "id": "32d12e63",
   "metadata": {},
   "outputs": [],
   "source": []
  }
 ],
 "metadata": {
  "kernelspec": {
   "display_name": "Python 3 (ipykernel)",
   "language": "python",
   "name": "python3"
  },
  "language_info": {
   "codemirror_mode": {
    "name": "ipython",
    "version": 3
   },
   "file_extension": ".py",
   "mimetype": "text/x-python",
   "name": "python",
   "nbconvert_exporter": "python",
   "pygments_lexer": "ipython3",
   "version": "3.10.11"
  }
 },
 "nbformat": 4,
 "nbformat_minor": 5
}
